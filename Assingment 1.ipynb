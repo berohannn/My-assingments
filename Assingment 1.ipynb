{
 "cells": [
  {
   "cell_type": "code",
   "execution_count": null,
   "id": "47c058cf",
   "metadata": {},
   "outputs": [],
   "source": [
    "#ASSINGMENT 1\n"
   ]
  },
  {
   "cell_type": "code",
   "execution_count": 1,
   "id": "b63fb607",
   "metadata": {},
   "outputs": [],
   "source": [
    "'''QUES1\n",
    "Q1. Create one variable containing following type of data:\n",
    "(i) string\n",
    "(ii) list\n",
    "(iii) float\n",
    "(iv) tuple'''\n",
    "\n",
    "#1\n",
    "a = \"Myself Rohan\"\n",
    "#2\n",
    "b = [\"rohan\",\"rao\",\"pw\"]\n",
    "#3\n",
    "c = float(34.9)\n",
    "#4\n",
    "d = (\"e\",\"f\",\"g\")\n"
   ]
  },
  {
   "cell_type": "code",
   "execution_count": 7,
   "id": "85fb8691",
   "metadata": {},
   "outputs": [
    {
     "data": {
      "text/plain": [
       "'   Q2. Given are some following variables containing data:\\n(i) var1 = ‘ ‘\\n(ii) var2 = ‘[ DS , ML , Python]’\\n(iii) var3 = [ ‘DS’ , ’ML’ , ‘Python’ ]\\n(iv) var4 = 1.\\nWhat will be the data type of the above given variable.    '"
      ]
     },
     "execution_count": 7,
     "metadata": {},
     "output_type": "execute_result"
    }
   ],
   "source": [
    "\"\"\"   Q2. Given are some following variables containing data:\n",
    "(i) var1 = ‘ ‘\n",
    "(ii) var2 = ‘[ DS , ML , Python]’\n",
    "(iii) var3 = [ ‘DS’ , ’ML’ , ‘Python’ ]\n",
    "(iv) var4 = 1.\n",
    "What will be the data type of the above given variable.    \"\"\" \n",
    "\n",
    "#ans1 str\n",
    "#ans2 str\n",
    "#ans3 list\n",
    "#and4 int\n"
   ]
  },
  {
   "cell_type": "code",
   "execution_count": 8,
   "id": "96fd22c7",
   "metadata": {},
   "outputs": [
    {
     "name": "stdout",
     "output_type": "stream",
     "text": [
      "3.3333333333333335 <class 'float'>\n",
      "1 <class 'int'>\n",
      "3\n",
      "8\n"
     ]
    }
   ],
   "source": [
    "'''Q3. Explain the use of the following operators using an example:\n",
    "(i) /\n",
    "(ii) %\n",
    "(iii) //\n",
    "(iv) **   '''\n",
    "\n",
    "\n",
    "\n",
    "#1 divide operator used to divide first no by second no and returns float value\n",
    "z = 10/3\n",
    "print(z,type(z))\n",
    "#2 modulus operator gives us remainder of the division and returns int value\n",
    "x= 10%3\n",
    "print(x,type(x))\n",
    "#3 divides and give floor value\n",
    "v= 10//3\n",
    "print(v)\n",
    "\n",
    "#4 returns first raised to second power\n",
    "n= 2**3\n",
    "print(n)"
   ]
  },
  {
   "cell_type": "code",
   "execution_count": 12,
   "id": "03aa4dc3",
   "metadata": {},
   "outputs": [
    {
     "name": "stdout",
     "output_type": "stream",
     "text": [
      "10\n",
      "1 <class 'int'>\n",
      "2 <class 'int'>\n",
      "3 <class 'int'>\n",
      "4.0 <class 'float'>\n",
      "5.34 <class 'float'>\n",
      "True <class 'bool'>\n",
      "rohan <class 'str'>\n",
      "(2+8j) <class 'complex'>\n",
      "False <class 'bool'>\n",
      "skills <class 'str'>\n"
     ]
    }
   ],
   "source": [
    "#Q4. Create a list of length 10 of your choice containing multiple types of data. Using for loop print the\n",
    "#element and its data type.\n",
    "\n",
    "mylist = [1,2,3,4.0,5.34,True,\"rohan\",2+8j,False,\"skills\"]\n",
    "print(len(mylist))\n",
    "\n",
    "for i in mylist:\n",
    "    print(i,type(i))"
   ]
  },
  {
   "cell_type": "code",
   "execution_count": 1,
   "id": "9a7f6707",
   "metadata": {},
   "outputs": [
    {
     "name": "stdout",
     "output_type": "stream",
     "text": [
      "Yes,it is divisible  8 times\n"
     ]
    }
   ],
   "source": [
    "#Q5.Using a while loop, verify if the number A is purely divisible by number B and if so then how many\n",
    "#times it can be divisible.\n",
    "\n",
    "numA = 24\n",
    "numB = 3\n",
    "\n",
    "while numA%numB==0:\n",
    "    print(\"Yes,it is divisible \", numA//numB,\"times\")\n",
    "    break\n",
    "    "
   ]
  },
  {
   "cell_type": "code",
   "execution_count": 2,
   "id": "017a4f20",
   "metadata": {},
   "outputs": [
    {
     "name": "stdout",
     "output_type": "stream",
     "text": [
      "1 It is not divisible by 3\n",
      "2 It is not divisible by 3\n",
      "3 It is divisible by 3\n",
      "4 It is not divisible by 3\n",
      "5 It is not divisible by 3\n",
      "6 It is divisible by 3\n",
      "7 It is not divisible by 3\n",
      "8 It is not divisible by 3\n",
      "9 It is divisible by 3\n",
      "10 It is not divisible by 3\n",
      "11 It is not divisible by 3\n",
      "12 It is divisible by 3\n",
      "13 It is not divisible by 3\n",
      "14 It is not divisible by 3\n",
      "15 It is divisible by 3\n",
      "16 It is not divisible by 3\n",
      "17 It is not divisible by 3\n",
      "18 It is divisible by 3\n",
      "19 It is not divisible by 3\n",
      "20 It is not divisible by 3\n",
      "21 It is divisible by 3\n",
      "22 It is not divisible by 3\n",
      "23 It is not divisible by 3\n",
      "24 It is divisible by 3\n",
      "25 It is not divisible by 3\n"
     ]
    }
   ],
   "source": [
    "#Q6. Create a list containing 25 int type data. Using for loop and if-else condition print if the element is\n",
    "#divisible by 3 or not.\n",
    "\n",
    "newlist = [1,2,3,4,5,6,7,8,9,10,11,12,13,14,15,16,17,18,19,20,21,22,23,24,25]\n",
    "for w in newlist:\n",
    "    if w%3==0:\n",
    "        print(w,\"It is divisible by 3\")\n",
    "    else:\n",
    "        print(w,\"It is not divisible by 3\")\n"
   ]
  },
  {
   "cell_type": "code",
   "execution_count": 4,
   "id": "e1b587a1",
   "metadata": {},
   "outputs": [
    {
     "name": "stdout",
     "output_type": "stream",
     "text": [
      "[1, 2, 4]\n"
     ]
    },
    {
     "ename": "TypeError",
     "evalue": "'str' object does not support item assignment",
     "output_type": "error",
     "traceback": [
      "\u001b[1;31m---------------------------------------------------------------------------\u001b[0m",
      "\u001b[1;31mTypeError\u001b[0m                                 Traceback (most recent call last)",
      "\u001b[1;32m~\\AppData\\Local\\Temp\\ipykernel_10248\\3231912319.py\u001b[0m in \u001b[0;36m<module>\u001b[1;34m\u001b[0m\n\u001b[0;32m     17\u001b[0m \u001b[1;33m\u001b[0m\u001b[0m\n\u001b[0;32m     18\u001b[0m \u001b[0mh\u001b[0m\u001b[1;33m=\u001b[0m \u001b[1;34m\"Rohan\"\u001b[0m\u001b[1;33m\u001b[0m\u001b[1;33m\u001b[0m\u001b[0m\n\u001b[1;32m---> 19\u001b[1;33m \u001b[0mh\u001b[0m\u001b[1;33m[\u001b[0m\u001b[1;36m3\u001b[0m\u001b[1;33m]\u001b[0m\u001b[1;33m=\u001b[0m\u001b[1;34m\"T\"\u001b[0m\u001b[1;33m\u001b[0m\u001b[1;33m\u001b[0m\u001b[0m\n\u001b[0m\u001b[0;32m     20\u001b[0m \u001b[0mprint\u001b[0m\u001b[1;33m(\u001b[0m\u001b[0mh\u001b[0m\u001b[1;33m)\u001b[0m\u001b[1;33m\u001b[0m\u001b[1;33m\u001b[0m\u001b[0m\n",
      "\u001b[1;31mTypeError\u001b[0m: 'str' object does not support item assignment"
     ]
    }
   ],
   "source": [
    "#Q7. What do you understand about mutable and immutable data types? Give examples for both showing\n",
    "#this property.\n",
    "\n",
    "'''\n",
    "Mutable data types are those data types in which we can change the value at an index\n",
    "for eg list\n",
    "'''\n",
    "\n",
    "list1 = [1,2,3]\n",
    "list1[2]=4\n",
    "print(list1)\n",
    "\n",
    "'''\n",
    "Immutable data types are those data types in which we can not change the value at an index\n",
    "for eg string\n",
    "'''\n",
    "\n",
    "h= \"Rohan\"\n",
    "h[3]=\"T\"\n",
    "print(h)"
   ]
  },
  {
   "cell_type": "code",
   "execution_count": null,
   "id": "5afea2b2",
   "metadata": {},
   "outputs": [],
   "source": []
  },
  {
   "cell_type": "code",
   "execution_count": null,
   "id": "f7a0f4b3",
   "metadata": {},
   "outputs": [],
   "source": []
  },
  {
   "cell_type": "code",
   "execution_count": null,
   "id": "b7d429fe",
   "metadata": {},
   "outputs": [],
   "source": []
  }
 ],
 "metadata": {
  "kernelspec": {
   "display_name": "Python 3 (ipykernel)",
   "language": "python",
   "name": "python3"
  },
  "language_info": {
   "codemirror_mode": {
    "name": "ipython",
    "version": 3
   },
   "file_extension": ".py",
   "mimetype": "text/x-python",
   "name": "python",
   "nbconvert_exporter": "python",
   "pygments_lexer": "ipython3",
   "version": "3.9.13"
  }
 },
 "nbformat": 4,
 "nbformat_minor": 5
}
