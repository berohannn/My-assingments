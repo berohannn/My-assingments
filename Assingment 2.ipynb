{
 "cells": [
  {
   "cell_type": "markdown",
   "id": "872c5cb9",
   "metadata": {},
   "source": [
    "ASSINGMENT-2\n"
   ]
  },
  {
   "cell_type": "markdown",
   "id": "cace158b",
   "metadata": {},
   "source": [
    "Q1. How do you comment code in Python? What are the different types of comments?"
   ]
  },
  {
   "cell_type": "code",
   "execution_count": null,
   "id": "b67d4a2f",
   "metadata": {},
   "outputs": [],
   "source": [
    "#We can write comment by adding '#' in front of the sentence.\n",
    "\n",
    "'''for multi line comment \n",
    "we use three single or double quotes'''\n",
    "\n",
    "#we use comments to make our code more readable "
   ]
  },
  {
   "cell_type": "markdown",
   "id": "13375a61",
   "metadata": {},
   "source": [
    "Q2. What are variables in Python? How do you declare and assign values to variables?"
   ]
  },
  {
   "cell_type": "code",
   "execution_count": null,
   "id": "e161b642",
   "metadata": {},
   "outputs": [],
   "source": [
    "#variable are simply ame which we assing to values and objects, they are used to store and manipulate data\n",
    "# to declare and assing value we simply follow this syntax\n",
    "#variablename = variable\n",
    "a = 5 "
   ]
  },
  {
   "cell_type": "markdown",
   "id": "2a6bfd12",
   "metadata": {},
   "source": [
    "Q3. How do you convert one data type to another in Python?"
   ]
  },
  {
   "cell_type": "code",
   "execution_count": 3,
   "id": "99838a48",
   "metadata": {},
   "outputs": [
    {
     "name": "stdout",
     "output_type": "stream",
     "text": [
      "23 <class 'int'>\n",
      "23 <class 'str'>\n",
      "23.0 <class 'float'>\n"
     ]
    }
   ],
   "source": [
    "# we can simply convert one data type to another by using function and constructors\n",
    "# here are some examples \n",
    "\n",
    "b = 23\n",
    "print(b ,type(b))\n",
    "b = str(b)\n",
    "print(b ,type(b))\n",
    "b = float(b)\n",
    "print(b , type(b))"
   ]
  },
  {
   "cell_type": "markdown",
   "id": "291af8a1",
   "metadata": {},
   "source": [
    "Q4. How do you write and execute a Python script from the command line?"
   ]
  },
  {
   "cell_type": "code",
   "execution_count": null,
   "id": "c93f990c",
   "metadata": {},
   "outputs": [],
   "source": [
    "# first we simply write our python code in a text file and save it with .py extension\n",
    "# then we will open cmd prompt or terminal in our operating system and select the directory in which our file\n",
    "# has been saved. Then we can run the script by wiritng python in front of the file name "
   ]
  },
  {
   "cell_type": "markdown",
   "id": "66660933",
   "metadata": {},
   "source": [
    "Q5. Given a list my_list = [1, 2, 3, 4, 5], write the code to slice the list and obtain the sub-list [2, 3]."
   ]
  },
  {
   "cell_type": "code",
   "execution_count": 5,
   "id": "fc7e2804",
   "metadata": {},
   "outputs": [
    {
     "name": "stdout",
     "output_type": "stream",
     "text": [
      "[2, 3]\n"
     ]
    }
   ],
   "source": [
    "my_list = [1,2,3,4,5]\n",
    "print(my_list[1:3])"
   ]
  },
  {
   "cell_type": "markdown",
   "id": "b72e4f42",
   "metadata": {},
   "source": [
    "Q6. What is a complex number in mathematics, and how is it represented in Python?"
   ]
  },
  {
   "cell_type": "code",
   "execution_count": 6,
   "id": "ed1ac8d9",
   "metadata": {},
   "outputs": [
    {
     "name": "stdout",
     "output_type": "stream",
     "text": [
      "<class 'int'>\n",
      "<class 'complex'>\n"
     ]
    }
   ],
   "source": [
    "# A number which is written in the form of a + ib is a complex number, where a is the real parth and b is the imaginary part. \n",
    "# We can not show these number on the real number line \n",
    "# In python these numbers are written in the form of a+bj\n",
    "# i is replaced by j \n",
    "# if we want to convert data type we simply write complex()\n",
    "x = 21\n",
    "print(type(x))\n",
    "x = complex(x)\n",
    "print(type(x))"
   ]
  },
  {
   "cell_type": "markdown",
   "id": "770c05f9",
   "metadata": {},
   "source": [
    "Q7. What is the correct way to declare a variable named age and assign the value 25 to it?"
   ]
  },
  {
   "cell_type": "code",
   "execution_count": 8,
   "id": "14cb349f",
   "metadata": {},
   "outputs": [],
   "source": [
    "#The variable name should not contain any special character \n",
    "#The variable name can not start with numbers\n",
    "#Always remember python is case sensitive\n",
    "#we can use _ in the name of variable\n",
    "age = 25"
   ]
  },
  {
   "cell_type": "markdown",
   "id": "0b3b4342",
   "metadata": {},
   "source": [
    "Q8. Declare a variable named price and assign the value 9.99 to it. What data type does this variable\n",
    "belong to?"
   ]
  },
  {
   "cell_type": "code",
   "execution_count": 9,
   "id": "1a17fa65",
   "metadata": {},
   "outputs": [
    {
     "name": "stdout",
     "output_type": "stream",
     "text": [
      "9.99 <class 'float'>\n"
     ]
    }
   ],
   "source": [
    "price = 9.99\n",
    "# it belongs to float data type\n",
    "print(price , type(price))"
   ]
  },
  {
   "cell_type": "markdown",
   "id": "9534d7ed",
   "metadata": {},
   "source": [
    "Q9. Create a variable named name and assign your full name to it as a string. How would you print the\n",
    "value of this variable?"
   ]
  },
  {
   "cell_type": "code",
   "execution_count": 10,
   "id": "29b14acf",
   "metadata": {},
   "outputs": [
    {
     "name": "stdout",
     "output_type": "stream",
     "text": [
      "ROHAN VIKAS RAO\n"
     ]
    }
   ],
   "source": [
    "name = 'ROHAN VIKAS RAO'\n",
    "# We can print the value of this variable by simply caliing out the name of the variable with print command\n",
    "print(name)"
   ]
  },
  {
   "cell_type": "markdown",
   "id": "b5a39443",
   "metadata": {},
   "source": [
    "Q10. Given the string \"Hello, World!\", extract the substring \"World\"."
   ]
  },
  {
   "cell_type": "code",
   "execution_count": 13,
   "id": "aae59b63",
   "metadata": {},
   "outputs": [
    {
     "name": "stdout",
     "output_type": "stream",
     "text": [
      "World\n"
     ]
    }
   ],
   "source": [
    "c = \"Hello, World!\"\n",
    "print(c[7:12])"
   ]
  },
  {
   "cell_type": "markdown",
   "id": "c0657a7f",
   "metadata": {},
   "source": [
    "Q11. Create a variable named \"is_student\" and assign it a boolean value indicating whether you are\n",
    "currently a student or not."
   ]
  },
  {
   "cell_type": "code",
   "execution_count": 14,
   "id": "06b78360",
   "metadata": {},
   "outputs": [],
   "source": [
    "is_student = True"
   ]
  },
  {
   "cell_type": "code",
   "execution_count": null,
   "id": "32f6c3f0",
   "metadata": {},
   "outputs": [],
   "source": []
  },
  {
   "cell_type": "code",
   "execution_count": null,
   "id": "fadca321",
   "metadata": {},
   "outputs": [],
   "source": []
  },
  {
   "cell_type": "code",
   "execution_count": null,
   "id": "abbd693e",
   "metadata": {},
   "outputs": [],
   "source": []
  },
  {
   "cell_type": "code",
   "execution_count": null,
   "id": "2015aa31",
   "metadata": {},
   "outputs": [],
   "source": []
  },
  {
   "cell_type": "code",
   "execution_count": null,
   "id": "bb22de09",
   "metadata": {},
   "outputs": [],
   "source": []
  },
  {
   "cell_type": "code",
   "execution_count": null,
   "id": "bf35d3f2",
   "metadata": {},
   "outputs": [],
   "source": []
  },
  {
   "cell_type": "code",
   "execution_count": null,
   "id": "59aa6f06",
   "metadata": {},
   "outputs": [],
   "source": []
  },
  {
   "cell_type": "code",
   "execution_count": null,
   "id": "e8e5a349",
   "metadata": {},
   "outputs": [],
   "source": []
  },
  {
   "cell_type": "code",
   "execution_count": null,
   "id": "5fb83801",
   "metadata": {},
   "outputs": [],
   "source": []
  },
  {
   "cell_type": "code",
   "execution_count": null,
   "id": "a91b6dbe",
   "metadata": {},
   "outputs": [],
   "source": []
  }
 ],
 "metadata": {
  "kernelspec": {
   "display_name": "Python 3 (ipykernel)",
   "language": "python",
   "name": "python3"
  },
  "language_info": {
   "codemirror_mode": {
    "name": "ipython",
    "version": 3
   },
   "file_extension": ".py",
   "mimetype": "text/x-python",
   "name": "python",
   "nbconvert_exporter": "python",
   "pygments_lexer": "ipython3",
   "version": "3.9.13"
  }
 },
 "nbformat": 4,
 "nbformat_minor": 5
}
